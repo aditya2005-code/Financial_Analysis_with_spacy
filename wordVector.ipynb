{
 "cells": [
  {
   "cell_type": "markdown",
   "id": "a974d6b5-dfc3-46e0-afae-18027262e554",
   "metadata": {},
   "source": [
    "Word Vector And Spacy"
   ]
  },
  {
   "cell_type": "code",
   "execution_count": 2,
   "id": "3733ec32-26ff-44d1-a775-d50a3ea034f6",
   "metadata": {
    "scrolled": true
   },
   "outputs": [
    {
     "name": "stdout",
     "output_type": "stream",
     "text": [
      "Collecting en-core-web-md==3.8.0\n",
      "  Downloading https://github.com/explosion/spacy-models/releases/download/en_core_web_md-3.8.0/en_core_web_md-3.8.0-py3-none-any.whl (33.5 MB)\n",
      "     ---------------------------------------- 0.0/33.5 MB ? eta -:--:--\n",
      "     ---------------------------------------- 0.0/33.5 MB ? eta -:--:--\n",
      "     ---------------------------------------- 0.3/33.5 MB ? eta -:--:--\n",
      "      -------------------------------------- 0.5/33.5 MB 932.9 kB/s eta 0:00:36\n",
      "      --------------------------------------- 0.8/33.5 MB 1.2 MB/s eta 0:00:28\n",
      "     - -------------------------------------- 1.0/33.5 MB 1.2 MB/s eta 0:00:27\n",
      "     - -------------------------------------- 1.3/33.5 MB 1.2 MB/s eta 0:00:26\n",
      "     - -------------------------------------- 1.6/33.5 MB 1.2 MB/s eta 0:00:27\n",
      "     -- ------------------------------------- 1.8/33.5 MB 1.3 MB/s eta 0:00:26\n",
      "     -- ------------------------------------- 2.1/33.5 MB 1.2 MB/s eta 0:00:27\n",
      "     -- ------------------------------------- 2.4/33.5 MB 1.2 MB/s eta 0:00:27\n",
      "     -- ------------------------------------- 2.4/33.5 MB 1.2 MB/s eta 0:00:27\n",
      "     --- ------------------------------------ 2.6/33.5 MB 1.1 MB/s eta 0:00:28\n",
      "     --- ------------------------------------ 2.9/33.5 MB 1.1 MB/s eta 0:00:29\n",
      "     --- ------------------------------------ 2.9/33.5 MB 1.1 MB/s eta 0:00:29\n",
      "     --- ------------------------------------ 3.1/33.5 MB 1.0 MB/s eta 0:00:30\n",
      "     ---- ----------------------------------- 3.4/33.5 MB 1.1 MB/s eta 0:00:29\n",
      "     ---- ----------------------------------- 3.4/33.5 MB 1.1 MB/s eta 0:00:29\n",
      "     ---- ----------------------------------- 3.7/33.5 MB 1.0 MB/s eta 0:00:29\n",
      "     ---- ----------------------------------- 3.9/33.5 MB 1.0 MB/s eta 0:00:29\n",
      "     ----- ---------------------------------- 4.2/33.5 MB 1.0 MB/s eta 0:00:29\n",
      "     ----- ---------------------------------- 4.2/33.5 MB 1.0 MB/s eta 0:00:29\n",
      "     ----- ---------------------------------- 4.7/33.5 MB 1.0 MB/s eta 0:00:28\n",
      "     ----- ---------------------------------- 4.7/33.5 MB 1.0 MB/s eta 0:00:28\n",
      "     ----- ---------------------------------- 5.0/33.5 MB 1.0 MB/s eta 0:00:28\n",
      "     ------ --------------------------------- 5.2/33.5 MB 1.0 MB/s eta 0:00:28\n",
      "     ------ --------------------------------- 5.5/33.5 MB 1.0 MB/s eta 0:00:28\n",
      "     ------ --------------------------------- 5.5/33.5 MB 1.0 MB/s eta 0:00:28\n",
      "     ------ --------------------------------- 5.8/33.5 MB 1.0 MB/s eta 0:00:28\n",
      "     ------ --------------------------------- 5.8/33.5 MB 1.0 MB/s eta 0:00:28\n",
      "     ------- ------------------------------- 6.0/33.5 MB 992.3 kB/s eta 0:00:28\n",
      "     ------- -------------------------------- 6.3/33.5 MB 1.0 MB/s eta 0:00:28\n",
      "     ------- -------------------------------- 6.3/33.5 MB 1.0 MB/s eta 0:00:28\n",
      "     ------- ------------------------------- 6.6/33.5 MB 972.7 kB/s eta 0:00:28\n",
      "     ------- ------------------------------- 6.6/33.5 MB 972.7 kB/s eta 0:00:28\n",
      "     ------- ------------------------------- 6.8/33.5 MB 955.5 kB/s eta 0:00:28\n",
      "     -------- ------------------------------ 7.1/33.5 MB 960.9 kB/s eta 0:00:28\n",
      "     -------- ------------------------------ 7.1/33.5 MB 960.9 kB/s eta 0:00:28\n",
      "     -------- ------------------------------ 7.3/33.5 MB 957.8 kB/s eta 0:00:28\n",
      "     -------- ------------------------------ 7.3/33.5 MB 957.8 kB/s eta 0:00:28\n",
      "     -------- ------------------------------ 7.6/33.5 MB 919.3 kB/s eta 0:00:29\n",
      "     -------- ------------------------------ 7.6/33.5 MB 919.3 kB/s eta 0:00:29\n",
      "     -------- ------------------------------ 7.6/33.5 MB 919.3 kB/s eta 0:00:29\n",
      "     --------- ----------------------------- 7.9/33.5 MB 891.1 kB/s eta 0:00:29\n",
      "     --------- ----------------------------- 7.9/33.5 MB 891.1 kB/s eta 0:00:29\n",
      "     --------- ----------------------------- 8.1/33.5 MB 894.0 kB/s eta 0:00:29\n",
      "     --------- ----------------------------- 8.1/33.5 MB 894.0 kB/s eta 0:00:29\n",
      "     --------- ----------------------------- 8.1/33.5 MB 894.0 kB/s eta 0:00:29\n",
      "     --------- ----------------------------- 8.1/33.5 MB 894.0 kB/s eta 0:00:29\n",
      "     --------- ----------------------------- 8.4/33.5 MB 833.5 kB/s eta 0:00:31\n",
      "     --------- ----------------------------- 8.4/33.5 MB 833.5 kB/s eta 0:00:31\n",
      "     ---------- ---------------------------- 8.7/33.5 MB 827.3 kB/s eta 0:00:31\n",
      "     ---------- ---------------------------- 8.9/33.5 MB 830.0 kB/s eta 0:00:30\n",
      "     ---------- ---------------------------- 9.2/33.5 MB 843.9 kB/s eta 0:00:29\n",
      "     ---------- ---------------------------- 9.4/33.5 MB 858.5 kB/s eta 0:00:29\n",
      "     ----------- --------------------------- 9.7/33.5 MB 869.1 kB/s eta 0:00:28\n",
      "     ----------- -------------------------- 10.0/33.5 MB 875.5 kB/s eta 0:00:27\n",
      "     ----------- -------------------------- 10.2/33.5 MB 883.0 kB/s eta 0:00:27\n",
      "     ----------- -------------------------- 10.5/33.5 MB 892.7 kB/s eta 0:00:26\n",
      "     ------------ ------------------------- 11.0/33.5 MB 907.5 kB/s eta 0:00:25\n",
      "     ------------ ------------------------- 11.0/33.5 MB 907.5 kB/s eta 0:00:25\n",
      "     ------------ ------------------------- 11.3/33.5 MB 902.2 kB/s eta 0:00:25\n",
      "     ------------- ------------------------ 11.5/33.5 MB 908.6 kB/s eta 0:00:25\n",
      "     ------------- ------------------------ 11.8/33.5 MB 917.0 kB/s eta 0:00:24\n",
      "     ------------- ------------------------ 12.1/33.5 MB 924.1 kB/s eta 0:00:24\n",
      "     ------------- ------------------------ 12.3/33.5 MB 934.3 kB/s eta 0:00:23\n",
      "     -------------- ----------------------- 12.8/33.5 MB 954.2 kB/s eta 0:00:22\n",
      "     -------------- ----------------------- 13.1/33.5 MB 955.9 kB/s eta 0:00:22\n",
      "     --------------- ---------------------- 13.4/33.5 MB 964.3 kB/s eta 0:00:21\n",
      "     --------------- ---------------------- 13.6/33.5 MB 974.6 kB/s eta 0:00:21\n",
      "     ---------------- --------------------- 14.2/33.5 MB 988.0 kB/s eta 0:00:20\n",
      "     ---------------- --------------------- 14.4/33.5 MB 992.3 kB/s eta 0:00:20\n",
      "     ---------------- --------------------- 14.7/33.5 MB 994.3 kB/s eta 0:00:19\n",
      "     ----------------- ---------------------- 14.9/33.5 MB 1.0 MB/s eta 0:00:19\n",
      "     ------------------ --------------------- 15.2/33.5 MB 1.0 MB/s eta 0:00:19\n",
      "     ------------------ --------------------- 15.5/33.5 MB 1.0 MB/s eta 0:00:18\n",
      "     ------------------ --------------------- 15.7/33.5 MB 1.0 MB/s eta 0:00:18\n",
      "     ------------------- -------------------- 16.0/33.5 MB 1.0 MB/s eta 0:00:18\n",
      "     ------------------- -------------------- 16.3/33.5 MB 1.0 MB/s eta 0:00:17\n",
      "     -------------------- ------------------- 16.8/33.5 MB 1.0 MB/s eta 0:00:17\n",
      "     -------------------- ------------------- 17.3/33.5 MB 1.1 MB/s eta 0:00:16\n",
      "     -------------------- ------------------- 17.6/33.5 MB 1.1 MB/s eta 0:00:16\n",
      "     --------------------- ------------------ 17.8/33.5 MB 1.1 MB/s eta 0:00:15\n",
      "     --------------------- ------------------ 18.4/33.5 MB 1.1 MB/s eta 0:00:14\n",
      "     ---------------------- ----------------- 18.6/33.5 MB 1.1 MB/s eta 0:00:14\n",
      "     ---------------------- ----------------- 18.9/33.5 MB 1.1 MB/s eta 0:00:14\n",
      "     ---------------------- ----------------- 19.1/33.5 MB 1.1 MB/s eta 0:00:14\n",
      "     ----------------------- ---------------- 19.7/33.5 MB 1.1 MB/s eta 0:00:13\n",
      "     ----------------------- ---------------- 19.9/33.5 MB 1.1 MB/s eta 0:00:13\n",
      "     ------------------------ --------------- 20.2/33.5 MB 1.1 MB/s eta 0:00:12\n",
      "     ------------------------ --------------- 20.4/33.5 MB 1.1 MB/s eta 0:00:12\n",
      "     ------------------------ --------------- 20.7/33.5 MB 1.1 MB/s eta 0:00:12\n",
      "     ------------------------- -------------- 21.2/33.5 MB 1.1 MB/s eta 0:00:11\n",
      "     ------------------------- -------------- 21.5/33.5 MB 1.1 MB/s eta 0:00:11\n",
      "     ------------------------- -------------- 21.5/33.5 MB 1.1 MB/s eta 0:00:11\n",
      "     -------------------------- ------------- 22.0/33.5 MB 1.1 MB/s eta 0:00:11\n",
      "     -------------------------- ------------- 22.0/33.5 MB 1.1 MB/s eta 0:00:11\n",
      "     -------------------------- ------------- 22.3/33.5 MB 1.1 MB/s eta 0:00:10\n",
      "     -------------------------- ------------- 22.5/33.5 MB 1.1 MB/s eta 0:00:10\n",
      "     --------------------------- ------------ 22.8/33.5 MB 1.1 MB/s eta 0:00:10\n",
      "     --------------------------- ------------ 23.1/33.5 MB 1.1 MB/s eta 0:00:10\n",
      "     --------------------------- ------------ 23.3/33.5 MB 1.1 MB/s eta 0:00:09\n",
      "     ---------------------------- ----------- 23.6/33.5 MB 1.1 MB/s eta 0:00:09\n",
      "     ---------------------------- ----------- 23.9/33.5 MB 1.1 MB/s eta 0:00:09\n",
      "     ---------------------------- ----------- 24.1/33.5 MB 1.1 MB/s eta 0:00:09\n",
      "     ----------------------------- ---------- 24.6/33.5 MB 1.2 MB/s eta 0:00:08\n",
      "     ----------------------------- ---------- 24.9/33.5 MB 1.2 MB/s eta 0:00:08\n",
      "     ------------------------------ --------- 25.4/33.5 MB 1.2 MB/s eta 0:00:07\n",
      "     ------------------------------ --------- 25.7/33.5 MB 1.2 MB/s eta 0:00:07\n",
      "     ------------------------------- -------- 26.0/33.5 MB 1.2 MB/s eta 0:00:07\n",
      "     ------------------------------- -------- 26.5/33.5 MB 1.2 MB/s eta 0:00:06\n",
      "     -------------------------------- ------- 27.0/33.5 MB 1.2 MB/s eta 0:00:06\n",
      "     -------------------------------- ------- 27.3/33.5 MB 1.2 MB/s eta 0:00:06\n",
      "     -------------------------------- ------- 27.5/33.5 MB 1.2 MB/s eta 0:00:05\n",
      "     --------------------------------- ------ 28.0/33.5 MB 1.2 MB/s eta 0:00:05\n",
      "     ---------------------------------- ----- 28.6/33.5 MB 1.2 MB/s eta 0:00:05\n",
      "     ---------------------------------- ----- 29.1/33.5 MB 1.2 MB/s eta 0:00:04\n",
      "     ----------------------------------- ---- 29.6/33.5 MB 1.2 MB/s eta 0:00:04\n",
      "     ----------------------------------- ---- 29.9/33.5 MB 1.2 MB/s eta 0:00:03\n",
      "     ------------------------------------ --- 30.1/33.5 MB 1.2 MB/s eta 0:00:03\n",
      "     ------------------------------------ --- 30.4/33.5 MB 1.2 MB/s eta 0:00:03\n",
      "     ------------------------------------ --- 30.7/33.5 MB 1.3 MB/s eta 0:00:03\n",
      "     ------------------------------------ --- 30.9/33.5 MB 1.2 MB/s eta 0:00:03\n",
      "     ------------------------------------- -- 31.5/33.5 MB 1.3 MB/s eta 0:00:02\n",
      "     ------------------------------------- -- 31.7/33.5 MB 1.3 MB/s eta 0:00:02\n",
      "     -------------------------------------- - 32.0/33.5 MB 1.3 MB/s eta 0:00:02\n",
      "     -------------------------------------- - 32.2/33.5 MB 1.3 MB/s eta 0:00:01\n",
      "     ---------------------------------------  32.8/33.5 MB 1.3 MB/s eta 0:00:01\n",
      "     ---------------------------------------  33.3/33.5 MB 1.3 MB/s eta 0:00:01\n",
      "     ---------------------------------------- 33.5/33.5 MB 1.3 MB/s  0:00:26\n",
      "Installing collected packages: en-core-web-md\n",
      "Successfully installed en-core-web-md-3.8.0\n",
      "\u001b[38;5;2m[+] Download and installation successful\u001b[0m\n",
      "You can now load the package via spacy.load('en_core_web_md')\n"
     ]
    }
   ],
   "source": [
    "import spacy\n",
    "!python -m spacy download en_core_web_md"
   ]
  },
  {
   "cell_type": "code",
   "execution_count": 4,
   "id": "123824f8-39ee-45e4-a3f6-bc515a3eabf1",
   "metadata": {},
   "outputs": [],
   "source": [
    "nlp = spacy.load('en_core_web_md')"
   ]
  },
  {
   "cell_type": "code",
   "execution_count": 6,
   "id": "296cfc43-a40c-479b-8e26-7b0c67345dc1",
   "metadata": {
    "scrolled": true
   },
   "outputs": [
    {
     "name": "stdout",
     "output_type": "stream",
     "text": [
      "The United States of America (U.S.A. or USA), commonly known as the United States (U.S. or US) or America, is a country primarily located in North America. It consists of 50 states, a federal district, five major unincorporated territories, 326 Indian reservations, and some minor possessions.[j] At 3.8 million square miles (9.8 million square kilometers), it is the world's third- or fourth-largest country by total area.[d] The United States shares significant land borders with Canada to the north and Mexico to the south, as well as limited maritime borders with the Bahamas, Cuba, and Russia.[22] With a population of more than 331 million people, it is the third most populous country in the world. The national capital is Washington, D.C., and the most populous city is New York.\n",
      "\n",
      "Paleo-Indians migrated from Siberia to the North American mainland at least 12,000 years ago, and European colonization began in the 16th century. The United States emerged from the thirteen British colonies established along the East Coast. Disputes over taxation and political representation with Great Britain led to the American Revolutionary War (1775â€“1783), which established independence. In the late 18th century, the U.S. began expanding across North America, gradually obtaining new territories, sometimes through war, frequently displacing Native Americans, and admitting new states; by 1848, the United States spanned the continent. Slavery was legal in the southern United States until the second half of the 19th century when the American Civil War led to its abolition. The Spanishâ€“American War and World War I established the U.S. as a world power, a status confirmed by the outcome of World War II.\n",
      "\n",
      "During the Cold War, the United States fought the Korean War and the Vietnam War but avoided direct military conflict with the Soviet Union. The two superpowers competed in the Space Race, culminating in the 1969 spaceflight that first landed humans on the Moon. The Soviet Union's dissolution in 1991 ended the Cold War, leaving the United States as the world's sole superpower.\n",
      "\n",
      "The United States is a federal republic and a representative democracy with three separate branches of government, including a bicameral legislature. It is a founding member of the United Nations, World Bank, International Monetary Fund, Organization of American States, NATO, and other international organizations. It is a permanent member of the United Nations Security Council. Considered a melting pot of cultures and ethnicities, its population has been profoundly shaped by centuries of immigration. The country ranks high in international measures of economic freedom, quality of life, education, and human rights, and has low levels of perceived corruption. However, the country has received criticism concerning inequality related to race, wealth and income, the use of capital punishment, high incarceration rates, and lack of universal health care.\n",
      "\n",
      "The United States is a highly developed country, accounts for approximately a quarter of global GDP, and is the world's largest economy. By value, the United States is the world's largest importer and the second-largest exporter of goods. Although its population is only 4.2% of the world's total, it holds 29.4% of the total wealth in the world, the largest share held by any country. Making up more than a third of global military spending, it is the foremost military power in the world; and it is a leading political, cultural, and scientific force internationally.[23]\n"
     ]
    }
   ],
   "source": [
    "with open(\"C:/Users/ADITYA/Downloads/wiki_us.txt\" , \"r\") as f:\n",
    "    text = f.read()\n",
    "    print(text)"
   ]
  },
  {
   "cell_type": "code",
   "execution_count": 12,
   "id": "c2e46083-89be-4e7b-ba87-60e02016adf1",
   "metadata": {},
   "outputs": [
    {
     "name": "stdout",
     "output_type": "stream",
     "text": [
      "The United States of America (U.S.A. or USA), commonly known as the United States (U.S. or US) or America, is a country primarily located in North America.\n"
     ]
    }
   ],
   "source": [
    "doc = nlp(text)\n",
    "sentence1 = list(doc.sents)[0]\n",
    "print(sentence1)"
   ]
  },
  {
   "cell_type": "code",
   "execution_count": 41,
   "id": "17a33e73-80e4-499d-9f39-b81fd24f23b6",
   "metadata": {},
   "outputs": [
    {
     "data": {
      "text/plain": [
       "array([-6.5276e-01,  2.3873e-01, -2.3325e-01,  1.8608e-01,  3.7674e-01,\n",
       "       -5.4116e-02, -1.9189e-01,  2.2731e-01, -9.2528e-02,  1.8388e+00,\n",
       "       -1.8715e-01, -2.2237e-01,  3.1873e-01,  1.1472e-01,  3.8304e-01,\n",
       "        2.0092e-01, -2.7932e-01,  2.3462e+00, -3.9846e-01, -1.9525e-01,\n",
       "       -2.5649e-01,  2.5508e-01,  9.4618e-02, -4.1082e-01, -3.4191e-01,\n",
       "       -1.9499e-01,  1.7814e-01,  5.3463e-03, -4.7565e-01,  2.8022e-01,\n",
       "       -2.1920e-01,  6.0433e-01,  2.9309e-01, -2.4232e-01,  5.2700e-01,\n",
       "        3.9024e-01, -5.6955e-01,  3.7620e-01, -2.3126e-01, -2.9921e-01,\n",
       "        4.5643e-02,  1.4555e-01,  1.4231e-01,  1.0587e-01,  4.1210e-01,\n",
       "       -2.5261e-01, -3.2090e-02, -5.2830e-01, -2.6925e-02,  2.6227e-01,\n",
       "        1.6375e-01,  9.9259e-02,  3.1664e-01, -1.1040e-01,  2.5732e-01,\n",
       "       -4.0720e-01, -6.9903e-02, -1.3189e-01, -5.5753e-01, -1.4815e-01,\n",
       "       -3.3673e-01, -3.6122e-01,  2.1905e-02,  6.8589e-01, -8.0151e-02,\n",
       "       -1.2327e-01, -5.0595e-02, -1.3694e-01,  2.7306e-01, -1.4885e-01,\n",
       "        4.5150e-03,  1.6709e-01,  8.8148e-02, -1.7480e-01, -1.2441e-01,\n",
       "        5.6394e-02,  1.4228e-01,  3.6865e-01,  5.9486e-02, -1.9471e-01,\n",
       "       -2.5575e-01,  2.2853e-01, -8.2876e-03,  2.0285e-02,  4.2212e-01,\n",
       "        1.3516e-01,  7.2635e-01,  3.8426e-01,  1.9571e-01, -1.8199e-01,\n",
       "        3.6326e-01, -5.9009e-01,  1.2660e-01, -2.7157e-01, -4.0160e-01,\n",
       "       -6.2389e-01,  7.8656e-01,  2.8767e-01,  5.0652e-01,  9.7881e-02,\n",
       "       -1.4708e-02,  2.3946e-01, -1.8723e-01,  4.1445e-01,  1.6650e-01,\n",
       "       -1.8899e+00,  3.5874e-01, -2.9300e-02, -7.1390e-02,  7.2308e-02,\n",
       "        6.5537e-02, -1.5800e-01,  8.0230e-02, -3.0899e-02,  1.9015e-01,\n",
       "       -1.4525e-02,  9.2995e-03, -4.5801e-01, -5.1586e-02, -4.5419e-02,\n",
       "        3.9683e-01, -2.5542e-01,  2.4292e-01, -3.0690e-01, -2.4360e-01,\n",
       "       -2.7307e-01,  1.4416e-01, -9.6950e-03, -5.7948e-01, -2.2177e-01,\n",
       "        9.3387e-02, -3.0545e-01, -7.1946e-02,  2.3493e-01,  7.2558e-01,\n",
       "        5.4868e-02, -2.7755e-01,  1.6177e-01, -3.9068e-01, -2.3836e-02,\n",
       "       -3.8402e-01,  2.9663e-02, -7.9789e-01, -2.6405e-01,  5.8656e-02,\n",
       "        1.4091e-01,  3.0928e-01,  1.4004e-01,  1.3282e-02,  2.1340e-01,\n",
       "       -3.4682e-01,  3.5323e-01,  2.9809e-01,  9.6521e-02, -2.2186e-02,\n",
       "       -1.5502e-01, -7.5963e-02,  1.0163e+00, -2.0319e-01, -4.8089e-01,\n",
       "        1.8526e-03,  3.0310e-01, -3.0456e-01, -2.9545e-01, -1.1845e-02,\n",
       "       -1.5618e-01,  2.7693e-01,  3.1751e-01,  3.6650e-01, -3.9038e-01,\n",
       "        4.2004e-01, -3.2852e-01, -6.7994e-02, -1.4249e-01, -1.3815e-01,\n",
       "       -1.0507e-01, -1.7883e-01, -3.8480e-01,  3.2119e-01, -1.8403e-01,\n",
       "       -5.3652e-02, -2.0844e-02, -7.6724e-01, -1.1748e-01, -7.7480e-02,\n",
       "        4.5177e-01,  9.6727e-02, -2.0082e-01, -1.9445e-01, -9.7588e-03,\n",
       "        3.0302e-01, -3.3607e-01,  2.3825e-01, -3.6793e-02, -1.5106e-01,\n",
       "       -8.4877e-02, -1.7448e-01, -1.5700e-01, -6.5094e-01,  1.4706e-02,\n",
       "        4.4220e-01,  8.0152e-03, -3.4658e-01,  2.3566e-01,  1.5767e-01,\n",
       "       -1.6591e-01, -2.4740e-01, -3.3408e-01, -1.9722e-01,  2.2875e-02,\n",
       "       -1.4465e-01, -2.1910e-01, -9.2784e-02, -4.1141e-01,  2.7569e-01,\n",
       "       -5.2462e-02, -1.1711e-01,  2.3524e-01,  1.3615e-01,  2.0582e-01,\n",
       "        3.3483e-04, -3.5967e-02, -4.2995e-01, -3.1407e-01,  2.7588e-01,\n",
       "       -2.0524e-01, -1.7360e-01, -8.1571e-02,  3.2323e-01,  2.3840e-01,\n",
       "        1.2790e-01, -4.0717e-01,  5.8714e-01,  3.2730e-01,  1.7860e-02,\n",
       "        1.1729e-01, -4.7061e-02, -7.8453e-02,  1.4081e-01, -1.5994e-01,\n",
       "       -1.4909e-01,  7.1805e-02, -3.7698e-02,  4.4769e-01,  1.6152e-01,\n",
       "       -8.2816e-02, -1.1207e-01, -3.8554e-02, -1.0233e-01,  6.8006e-02,\n",
       "        1.6570e-01, -1.8337e-01,  3.8589e-01,  5.7057e-03, -1.4620e-01,\n",
       "        1.2894e+00,  3.4140e-01,  1.6715e-01,  4.2835e-01, -1.0456e-01,\n",
       "       -3.0015e-01, -2.4827e-02,  2.5433e-01,  1.8072e-01,  2.6348e-01,\n",
       "       -6.7580e-02,  1.7232e-01, -7.1153e-02,  1.7512e-01, -2.7813e-02,\n",
       "        6.4046e-01, -2.7157e-01, -9.4352e-02, -2.2393e-01,  8.9257e-03,\n",
       "       -3.7729e-01, -4.0433e-02,  1.1951e-01, -2.2956e-01,  3.5904e-01,\n",
       "        4.1923e-02,  5.3552e-02, -1.4838e-01,  5.5642e-01, -1.1883e-01,\n",
       "        1.1237e-01,  3.3574e-04, -1.5964e-01,  1.9147e-01,  1.1882e-01,\n",
       "       -2.8518e-01, -7.7427e-02,  2.2063e-01, -2.9288e-01, -5.9751e-01,\n",
       "       -1.6613e-02, -2.1909e-02, -4.2636e-01,  4.8578e-01, -2.8969e-01],\n",
       "      dtype=float32)"
      ]
     },
     "execution_count": 41,
     "metadata": {},
     "output_type": "execute_result"
    }
   ],
   "source": [
    "sentence1[0].vector"
   ]
  },
  {
   "cell_type": "code",
   "execution_count": 16,
   "id": "1e931ff8-f715-4391-b085-eabd08b02b56",
   "metadata": {},
   "outputs": [
    {
     "name": "stdout",
     "output_type": "stream",
     "text": [
      "['inner-city', 'anti-poverty', 'SLUMS', 'Socioeconomic', 'Divides', 'INTERSECT', 'drop-out', 'dropout', 'handicaps', 'suburb']\n"
     ]
    }
   ],
   "source": [
    "import numpy as np\n",
    "your_word = \"country\"\n",
    "\n",
    "ms = nlp.vocab.vectors.most_similar(\n",
    "    np.asarray([nlp.vocab.vectors[nlp.vocab.strings[your_word]]]), n=10)\n",
    "words = [nlp.vocab.strings[w] for w in ms[0][0]]\n",
    "distances = ms[2]\n",
    "print(words)"
   ]
  },
  {
   "cell_type": "markdown",
   "id": "a0acbdf7-5c3d-420b-843d-2b2db2060d60",
   "metadata": {},
   "source": [
    "Document Similarity"
   ]
  },
  {
   "cell_type": "code",
   "execution_count": 22,
   "id": "25fb6731-5dbd-4a35-a970-6ca6a68f610b",
   "metadata": {},
   "outputs": [
    {
     "name": "stdout",
     "output_type": "stream",
     "text": [
      "I love to sing while bathing and driving <-> The garage is built near the ocean Similarity-> 0.5090042352676392\n"
     ]
    }
   ],
   "source": [
    "doc1 = nlp(\"I love to sing while bathing and driving\")\n",
    "doc2 = nlp(\"The garage is built near the ocean\")\n",
    "doc3 = nlp(\"The BMW has a sun roof\")\n",
    "\n",
    "print(doc1,\"<->\",doc2,\"Similarity->\",doc1.similarity(doc2))"
   ]
  },
  {
   "cell_type": "code",
   "execution_count": 24,
   "id": "4349229f-ea19-4703-b452-8f4570e5b6a9",
   "metadata": {},
   "outputs": [
    {
     "name": "stdout",
     "output_type": "stream",
     "text": [
      "I love to sing while bathing and driving <-> The garage is built near the ocean Similarity-> 0.5988312363624573\n"
     ]
    }
   ],
   "source": [
    "print(doc1,\"<->\",doc2,\"Similarity->\",doc1.similarity(doc3))"
   ]
  },
  {
   "cell_type": "markdown",
   "id": "421c295a-71d6-4a59-96db-9ac06a8aa8a5",
   "metadata": {},
   "source": [
    "Word Similarity"
   ]
  },
  {
   "cell_type": "code",
   "execution_count": 39,
   "id": "339aa6b4-7117-43b1-bbd7-2564717950cb",
   "metadata": {},
   "outputs": [
    {
     "name": "stdout",
     "output_type": "stream",
     "text": [
      "to sing <-> I love 0.5258687138557434\n"
     ]
    }
   ],
   "source": [
    "french_fries = doc1[2:4]\n",
    "burgers = doc1[:2]\n",
    "print(french_fries, \"<->\", burgers, french_fries.similarity(burgers))"
   ]
  },
  {
   "cell_type": "code",
   "execution_count": null,
   "id": "80f8c284-c579-4d2a-ab05-1e3c4aab35a1",
   "metadata": {},
   "outputs": [],
   "source": []
  }
 ],
 "metadata": {
  "kernelspec": {
   "display_name": "Python 3 (ipykernel)",
   "language": "python",
   "name": "python3"
  },
  "language_info": {
   "codemirror_mode": {
    "name": "ipython",
    "version": 3
   },
   "file_extension": ".py",
   "mimetype": "text/x-python",
   "name": "python",
   "nbconvert_exporter": "python",
   "pygments_lexer": "ipython3",
   "version": "3.12.7"
  }
 },
 "nbformat": 4,
 "nbformat_minor": 5
}
