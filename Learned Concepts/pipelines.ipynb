{
 "cells": [
  {
   "cell_type": "markdown",
   "id": "aa96002b-6737-4e9e-af64-db92959ebb20",
   "metadata": {},
   "source": [
    "Spacy Pipelines"
   ]
  },
  {
   "cell_type": "markdown",
   "id": "84eb62f1-4e1e-4bc0-9280-49ca96be9658",
   "metadata": {},
   "source": [
    "Add Pipes"
   ]
  },
  {
   "cell_type": "code",
   "execution_count": 1,
   "id": "4f7a779a-1d2c-407c-8b01-75cdce32d8f6",
   "metadata": {},
   "outputs": [],
   "source": [
    "import spacy"
   ]
  },
  {
   "cell_type": "code",
   "execution_count": 3,
   "id": "6a07166b-f1c4-426a-aa8e-10afe60e0642",
   "metadata": {},
   "outputs": [],
   "source": [
    "nlp = spacy.load('en_core_web_md')"
   ]
  },
  {
   "cell_type": "code",
   "execution_count": 4,
   "id": "53290384-6019-429b-9f58-5643e0445bbd",
   "metadata": {},
   "outputs": [],
   "source": [
    "nlp = spacy.blank('en')"
   ]
  },
  {
   "cell_type": "code",
   "execution_count": 5,
   "id": "c98f59f5-135d-4318-9914-08c8590989f9",
   "metadata": {},
   "outputs": [
    {
     "data": {
      "text/plain": [
       "<spacy.pipeline.sentencizer.Sentencizer at 0x169ea0fc510>"
      ]
     },
     "execution_count": 5,
     "metadata": {},
     "output_type": "execute_result"
    }
   ],
   "source": [
    "nlp.add_pipe('sentencizer')"
   ]
  },
  {
   "cell_type": "code",
   "execution_count": 6,
   "id": "0e532215-d3ed-44fe-a88e-3c444aa1664d",
   "metadata": {},
   "outputs": [],
   "source": [
    "import requests\n",
    "from bs4 import BeautifulSoup\n",
    "s = requests.get(\"https://ocw.mit.edu/ans7870/6/6.006/s08/lecturenotes/files/t8.shakespeare.txt\")\n",
    "soup = BeautifulSoup(s.content).text.replace(\"-\\n\", \"\").replace(\"\\n\", \" \")\n",
    "nlp.max_length = 5278439"
   ]
  },
  {
   "cell_type": "code",
   "execution_count": 7,
   "id": "77749157-b814-4004-82bc-64e20a879c36",
   "metadata": {},
   "outputs": [
    {
     "name": "stdout",
     "output_type": "stream",
     "text": [
      "94134\n",
      "CPU times: total: 29.4 s\n",
      "Wall time: 30.8 s\n"
     ]
    }
   ],
   "source": [
    "%%time\n",
    "doc = nlp(soup)\n",
    "print (len(list(doc.sents)))"
   ]
  },
  {
   "cell_type": "code",
   "execution_count": 8,
   "id": "1ce4c8d8-6fc7-4bc3-a9a8-2d807d450036",
   "metadata": {},
   "outputs": [],
   "source": [
    "nlp2 = spacy.load(\"en_core_web_sm\")\n",
    "nlp2.max_length = 5278439"
   ]
  },
  {
   "cell_type": "code",
   "execution_count": null,
   "id": "9c1f2521-12b9-4e8b-8505-ae63f765e212",
   "metadata": {},
   "outputs": [],
   "source": [
    "%%time\n",
    "doc = nlp2(soup)\n",
    "print (len(list(doc.sents)))"
   ]
  },
  {
   "cell_type": "code",
   "execution_count": null,
   "id": "75293ce2-5d69-4c48-b879-4427567eeef2",
   "metadata": {},
   "outputs": [],
   "source": [
    "nlp2.analyze_pipes()"
   ]
  },
  {
   "cell_type": "code",
   "execution_count": null,
   "id": "20c4c67a-4c76-4b6f-958c-fdf1195fdc00",
   "metadata": {},
   "outputs": [],
   "source": []
  }
 ],
 "metadata": {
  "kernelspec": {
   "display_name": "Python 3",
   "language": "python",
   "name": "python3"
  },
  "language_info": {
   "codemirror_mode": {
    "name": "ipython",
    "version": 3
   },
   "file_extension": ".py",
   "mimetype": "text/x-python",
   "name": "python",
   "nbconvert_exporter": "python",
   "pygments_lexer": "ipython3",
   "version": "3.11.9"
  }
 },
 "nbformat": 4,
 "nbformat_minor": 5
}
